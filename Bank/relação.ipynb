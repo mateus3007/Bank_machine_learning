{
 "cells": [
  {
   "cell_type": "code",
   "execution_count": 2,
   "id": "d49a6d49-5818-4980-ab48-bb0cb984bf78",
   "metadata": {},
   "outputs": [
    {
     "name": "stdout",
     "output_type": "stream",
     "text": [
      "Correlação para regressão:\n",
      "quality                 1.000000\n",
      "volatile acidity        0.265699\n",
      "chlorides               0.200666\n",
      "color                   0.119323\n",
      "citric acid             0.085532\n",
      "fixed acidity           0.076743\n",
      "free sulfur dioxide     0.055463\n",
      "total sulfur dioxide    0.041385\n",
      "sulphates               0.038485\n",
      "residual sugar          0.036980\n",
      "density                 0.029499\n",
      "pH                      0.019506\n",
      "alcohol                 0.013020\n",
      "Name: quality, dtype: float64\n",
      "\n",
      "Correlação para classificação:\n",
      "color                   1.000000\n",
      "total sulfur dioxide    0.700357\n",
      "volatile acidity        0.653036\n",
      "chlorides               0.512678\n",
      "sulphates               0.487218\n",
      "fixed acidity           0.486740\n",
      "free sulfur dioxide     0.471644\n",
      "residual sugar          0.348821\n",
      "pH                      0.329129\n",
      "citric acid             0.187397\n",
      "quality                 0.119323\n",
      "density                 0.037252\n",
      "alcohol                 0.010762\n",
      "Name: color, dtype: float64\n"
     ]
    }
   ],
   "source": [
    "import pandas as pd\n",
    "\n",
    "# Carregar o dataset\n",
    "data = pd.read_csv(\"winequality-merged.csv\")\n",
    "\n",
    "# Mapear a coluna 'color' para valores numéricos\n",
    "data['color'] = data['color'].map({'white': 0, 'red': 1})\n",
    "\n",
    "# Calcular a correlação com a variável alvo (regressão)\n",
    "correlation_regression = data.corr()['quality'].abs().sort_values(ascending=False)\n",
    "\n",
    "# Calcular a correlação com a variável alvo (classificação)\n",
    "correlation_classification = data.corr()['color'].abs().sort_values(ascending=False)\n",
    "\n",
    "print(\"Correlação para regressão:\")\n",
    "print(correlation_regression)\n",
    "\n",
    "print(\"\\nCorrelação para classificação:\")\n",
    "print(correlation_classification)\n",
    "\n"
   ]
  },
  {
   "cell_type": "code",
   "execution_count": null,
   "id": "11211b8e-3514-492d-a936-f91efb8dba23",
   "metadata": {},
   "outputs": [],
   "source": [
    "\"\"\"\n",
    "Com base nas correlações calculadas, podemos observar as relações entre as variáveis e a variável alvo \n",
    "(quality para regressão e color para classificação). Aqui está uma análise dessas correlações:\n",
    "\n",
    "Para Regressão:\n",
    "A qualidade (quality) tem uma correlação mais forte com a volatile acidity (0.265699) e chlorides (0.200666),\n",
    "indicando que essas variáveis têm uma relação mais significativa com a qualidade do vinho.\n",
    "A correlação entre color (0.119323) e quality sugere uma relação mais fraca entre a cor do vinho e sua qualidade,\n",
    "embora ainda exista uma influência.\n",
    "\n",
    "Para Classificação:\n",
    "A variável color tem uma correlação perfeitamente positiva (1.000000) com ela mesma,\n",
    "o que é esperado, já que é a variável que estamos tentando prever.\n",
    "Entre as variáveis preditoras, total sulfur dioxide (0.700357) e volatile acidity (0.653036) têm as correlações mais fortes com a cor do vinho, \n",
    "indicando uma relação mais significativa com a determinação se o vinho é tinto ou branco.\n",
    "Outras variáveis como chlorides (0.512678), sulphates (0.487218) e \n",
    "fixed acidity (0.486740) também têm correlações relativamente fortes com a cor do vinho, indicando uma influência significativa.\n",
    "\"\"\""
   ]
  }
 ],
 "metadata": {
  "kernelspec": {
   "display_name": "Python 3 (ipykernel)",
   "language": "python",
   "name": "python3"
  },
  "language_info": {
   "codemirror_mode": {
    "name": "ipython",
    "version": 3
   },
   "file_extension": ".py",
   "mimetype": "text/x-python",
   "name": "python",
   "nbconvert_exporter": "python",
   "pygments_lexer": "ipython3",
   "version": "3.11.7"
  }
 },
 "nbformat": 4,
 "nbformat_minor": 5
}
